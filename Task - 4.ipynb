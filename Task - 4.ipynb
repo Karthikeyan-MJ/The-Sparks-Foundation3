{
 "cells": [
  {
   "cell_type": "markdown",
   "metadata": {},
   "source": [
    "# THE SPARKS FOUNDATION"
   ]
  },
  {
   "cell_type": "markdown",
   "metadata": {},
   "source": [
    "## Data Science & Business Analytics Intern [GRIP FEB'21]"
   ]
  },
  {
   "cell_type": "markdown",
   "metadata": {},
   "source": [
    "**Name:-** Karthikeyan .M.J\n",
    "\n",
    "- LinkedIn : https://www.linkedin.com/in/karthikeyan-jagadeesan27/\n",
    "\n",
    "- GitHub profile : https://github.com/Karthikeyan-MJ"
   ]
  },
  {
   "cell_type": "markdown",
   "metadata": {},
   "source": [
    "**Task - 4**\n",
    "- Perform ‘Exploratory Data Analysis’ on dataset ‘Global Terrorism’\n",
    "-  As a security/defense analyst, try to find out the hot zone of terrorism.\n",
    "-  What all security issues and insights you can derive by EDA?"
   ]
  },
  {
   "cell_type": "markdown",
   "metadata": {},
   "source": [
    "## Importing the Libraries"
   ]
  },
  {
   "cell_type": "code",
   "execution_count": 1,
   "metadata": {},
   "outputs": [],
   "source": [
    "# Importing all required libraries.  \n",
    "import pandas as pd\n",
    "import numpy as np  \n",
    "import matplotlib.pyplot as plt \n",
    "%matplotlib inline\n",
    "import seaborn as sns"
   ]
  },
  {
   "cell_type": "markdown",
   "metadata": {},
   "source": [
    "## Load  Dataset"
   ]
  },
  {
   "cell_type": "code",
   "execution_count": 4,
   "metadata": {},
   "outputs": [
    {
     "data": {
      "text/html": [
       "<div>\n",
       "<style scoped>\n",
       "    .dataframe tbody tr th:only-of-type {\n",
       "        vertical-align: middle;\n",
       "    }\n",
       "\n",
       "    .dataframe tbody tr th {\n",
       "        vertical-align: top;\n",
       "    }\n",
       "\n",
       "    .dataframe thead th {\n",
       "        text-align: right;\n",
       "    }\n",
       "</style>\n",
       "<table border=\"1\" class=\"dataframe\">\n",
       "  <thead>\n",
       "    <tr style=\"text-align: right;\">\n",
       "      <th></th>\n",
       "      <th>eventid</th>\n",
       "      <th>iyear</th>\n",
       "      <th>imonth</th>\n",
       "      <th>iday</th>\n",
       "      <th>approxdate</th>\n",
       "      <th>extended</th>\n",
       "      <th>resolution</th>\n",
       "      <th>country</th>\n",
       "      <th>country_txt</th>\n",
       "      <th>region</th>\n",
       "      <th>...</th>\n",
       "      <th>addnotes</th>\n",
       "      <th>scite1</th>\n",
       "      <th>scite2</th>\n",
       "      <th>scite3</th>\n",
       "      <th>dbsource</th>\n",
       "      <th>INT_LOG</th>\n",
       "      <th>INT_IDEO</th>\n",
       "      <th>INT_MISC</th>\n",
       "      <th>INT_ANY</th>\n",
       "      <th>related</th>\n",
       "    </tr>\n",
       "  </thead>\n",
       "  <tbody>\n",
       "    <tr>\n",
       "      <th>0</th>\n",
       "      <td>197000000001</td>\n",
       "      <td>1970</td>\n",
       "      <td>7</td>\n",
       "      <td>2</td>\n",
       "      <td>NaN</td>\n",
       "      <td>0</td>\n",
       "      <td>NaN</td>\n",
       "      <td>58</td>\n",
       "      <td>Dominican Republic</td>\n",
       "      <td>2</td>\n",
       "      <td>...</td>\n",
       "      <td>NaN</td>\n",
       "      <td>NaN</td>\n",
       "      <td>NaN</td>\n",
       "      <td>NaN</td>\n",
       "      <td>PGIS</td>\n",
       "      <td>0</td>\n",
       "      <td>0</td>\n",
       "      <td>0</td>\n",
       "      <td>0</td>\n",
       "      <td>NaN</td>\n",
       "    </tr>\n",
       "    <tr>\n",
       "      <th>1</th>\n",
       "      <td>197000000002</td>\n",
       "      <td>1970</td>\n",
       "      <td>0</td>\n",
       "      <td>0</td>\n",
       "      <td>NaN</td>\n",
       "      <td>0</td>\n",
       "      <td>NaN</td>\n",
       "      <td>130</td>\n",
       "      <td>Mexico</td>\n",
       "      <td>1</td>\n",
       "      <td>...</td>\n",
       "      <td>NaN</td>\n",
       "      <td>NaN</td>\n",
       "      <td>NaN</td>\n",
       "      <td>NaN</td>\n",
       "      <td>PGIS</td>\n",
       "      <td>0</td>\n",
       "      <td>1</td>\n",
       "      <td>1</td>\n",
       "      <td>1</td>\n",
       "      <td>NaN</td>\n",
       "    </tr>\n",
       "    <tr>\n",
       "      <th>2</th>\n",
       "      <td>197001000001</td>\n",
       "      <td>1970</td>\n",
       "      <td>1</td>\n",
       "      <td>0</td>\n",
       "      <td>NaN</td>\n",
       "      <td>0</td>\n",
       "      <td>NaN</td>\n",
       "      <td>160</td>\n",
       "      <td>Philippines</td>\n",
       "      <td>5</td>\n",
       "      <td>...</td>\n",
       "      <td>NaN</td>\n",
       "      <td>NaN</td>\n",
       "      <td>NaN</td>\n",
       "      <td>NaN</td>\n",
       "      <td>PGIS</td>\n",
       "      <td>-9</td>\n",
       "      <td>-9</td>\n",
       "      <td>1</td>\n",
       "      <td>1</td>\n",
       "      <td>NaN</td>\n",
       "    </tr>\n",
       "    <tr>\n",
       "      <th>3</th>\n",
       "      <td>197001000002</td>\n",
       "      <td>1970</td>\n",
       "      <td>1</td>\n",
       "      <td>0</td>\n",
       "      <td>NaN</td>\n",
       "      <td>0</td>\n",
       "      <td>NaN</td>\n",
       "      <td>78</td>\n",
       "      <td>Greece</td>\n",
       "      <td>8</td>\n",
       "      <td>...</td>\n",
       "      <td>NaN</td>\n",
       "      <td>NaN</td>\n",
       "      <td>NaN</td>\n",
       "      <td>NaN</td>\n",
       "      <td>PGIS</td>\n",
       "      <td>-9</td>\n",
       "      <td>-9</td>\n",
       "      <td>1</td>\n",
       "      <td>1</td>\n",
       "      <td>NaN</td>\n",
       "    </tr>\n",
       "    <tr>\n",
       "      <th>4</th>\n",
       "      <td>197001000003</td>\n",
       "      <td>1970</td>\n",
       "      <td>1</td>\n",
       "      <td>0</td>\n",
       "      <td>NaN</td>\n",
       "      <td>0</td>\n",
       "      <td>NaN</td>\n",
       "      <td>101</td>\n",
       "      <td>Japan</td>\n",
       "      <td>4</td>\n",
       "      <td>...</td>\n",
       "      <td>NaN</td>\n",
       "      <td>NaN</td>\n",
       "      <td>NaN</td>\n",
       "      <td>NaN</td>\n",
       "      <td>PGIS</td>\n",
       "      <td>-9</td>\n",
       "      <td>-9</td>\n",
       "      <td>1</td>\n",
       "      <td>1</td>\n",
       "      <td>NaN</td>\n",
       "    </tr>\n",
       "  </tbody>\n",
       "</table>\n",
       "<p>5 rows × 135 columns</p>\n",
       "</div>"
      ],
      "text/plain": [
       "        eventid  iyear  imonth  iday approxdate  extended resolution  country  \\\n",
       "0  197000000001   1970       7     2        NaN         0        NaN       58   \n",
       "1  197000000002   1970       0     0        NaN         0        NaN      130   \n",
       "2  197001000001   1970       1     0        NaN         0        NaN      160   \n",
       "3  197001000002   1970       1     0        NaN         0        NaN       78   \n",
       "4  197001000003   1970       1     0        NaN         0        NaN      101   \n",
       "\n",
       "          country_txt  region  ... addnotes scite1 scite2  scite3  dbsource  \\\n",
       "0  Dominican Republic       2  ...      NaN    NaN    NaN     NaN      PGIS   \n",
       "1              Mexico       1  ...      NaN    NaN    NaN     NaN      PGIS   \n",
       "2         Philippines       5  ...      NaN    NaN    NaN     NaN      PGIS   \n",
       "3              Greece       8  ...      NaN    NaN    NaN     NaN      PGIS   \n",
       "4               Japan       4  ...      NaN    NaN    NaN     NaN      PGIS   \n",
       "\n",
       "   INT_LOG  INT_IDEO INT_MISC INT_ANY  related  \n",
       "0        0         0        0       0      NaN  \n",
       "1        0         1        1       1      NaN  \n",
       "2       -9        -9        1       1      NaN  \n",
       "3       -9        -9        1       1      NaN  \n",
       "4       -9        -9        1       1      NaN  \n",
       "\n",
       "[5 rows x 135 columns]"
      ]
     },
     "execution_count": 4,
     "metadata": {},
     "output_type": "execute_result"
    }
   ],
   "source": [
    "df = pd.read_csv(\"globalterrorism.csv\", low_memory=False, encoding='latin-1')\n",
    "df.head()"
   ]
  },
  {
   "cell_type": "markdown",
   "metadata": {},
   "source": [
    "## Data Exploration and Cleaning"
   ]
  },
  {
   "cell_type": "code",
   "execution_count": 5,
   "metadata": {},
   "outputs": [
    {
     "data": {
      "text/plain": [
       "(181691, 135)"
      ]
     },
     "execution_count": 5,
     "metadata": {},
     "output_type": "execute_result"
    }
   ],
   "source": [
    "df.shape"
   ]
  },
  {
   "cell_type": "code",
   "execution_count": 6,
   "metadata": {},
   "outputs": [
    {
     "data": {
      "text/plain": [
       "(181691,)"
      ]
     },
     "execution_count": 6,
     "metadata": {},
     "output_type": "execute_result"
    }
   ],
   "source": [
    "df['eventid'].unique().shape"
   ]
  },
  {
   "cell_type": "code",
   "execution_count": 7,
   "metadata": {},
   "outputs": [
    {
     "name": "stdout",
     "output_type": "stream",
     "text": [
      "<class 'pandas.core.frame.DataFrame'>\n",
      "RangeIndex: 181691 entries, 0 to 181690\n",
      "Columns: 135 entries, eventid to related\n",
      "dtypes: float64(55), int64(22), object(58)\n",
      "memory usage: 187.1+ MB\n"
     ]
    }
   ],
   "source": [
    "df.info()"
   ]
  },
  {
   "cell_type": "code",
   "execution_count": 8,
   "metadata": {},
   "outputs": [
    {
     "data": {
      "text/plain": [
       "eventid       181691\n",
       "iyear         181691\n",
       "imonth        181691\n",
       "iday          181691\n",
       "approxdate      9239\n",
       "               ...  \n",
       "INT_LOG       181691\n",
       "INT_IDEO      181691\n",
       "INT_MISC      181691\n",
       "INT_ANY       181691\n",
       "related        25038\n",
       "Length: 135, dtype: int64"
      ]
     },
     "execution_count": 8,
     "metadata": {},
     "output_type": "execute_result"
    }
   ],
   "source": [
    "df.count()"
   ]
  },
  {
   "cell_type": "code",
   "execution_count": 9,
   "metadata": {},
   "outputs": [
    {
     "data": {
      "text/plain": [
       "eventid            0\n",
       "iyear              0\n",
       "imonth             0\n",
       "iday               0\n",
       "approxdate    172452\n",
       "               ...  \n",
       "INT_LOG            0\n",
       "INT_IDEO           0\n",
       "INT_MISC           0\n",
       "INT_ANY            0\n",
       "related       156653\n",
       "Length: 135, dtype: int64"
      ]
     },
     "execution_count": 9,
     "metadata": {},
     "output_type": "execute_result"
    }
   ],
   "source": [
    "df.isnull().sum()"
   ]
  },
  {
   "cell_type": "code",
   "execution_count": 10,
   "metadata": {},
   "outputs": [
    {
     "data": {
      "text/plain": [
       "eventid        0.000000\n",
       "iyear          0.000000\n",
       "imonth         0.000000\n",
       "iday           0.000000\n",
       "approxdate    94.914993\n",
       "                ...    \n",
       "INT_LOG        0.000000\n",
       "INT_IDEO       0.000000\n",
       "INT_MISC       0.000000\n",
       "INT_ANY        0.000000\n",
       "related       86.219461\n",
       "Length: 135, dtype: float64"
      ]
     },
     "execution_count": 10,
     "metadata": {},
     "output_type": "execute_result"
    }
   ],
   "source": [
    "missing_percentage = df.isnull().sum()*100/len(df)\n",
    "missing_percentage"
   ]
  },
  {
   "cell_type": "code",
   "execution_count": 11,
   "metadata": {},
   "outputs": [
    {
     "data": {
      "text/plain": [
       "<matplotlib.axes._subplots.AxesSubplot at 0x2c0000b7e80>"
      ]
     },
     "execution_count": 11,
     "metadata": {},
     "output_type": "execute_result"
    },
    {
     "data": {
      "image/png": "[encoded data removed]",
      "text/plain": [
       "<Figure size 1080x576 with 1 Axes>"
      ]
     },
     "metadata": {
      "needs_background": "light"
     },
     "output_type": "display_data"
    }
   ],
   "source": [
    "plt.figure(figsize=(15,8))\n",
    "sns.heatmap(df.isnull(), yticklabels=False, cbar=False, cmap='viridis')"
   ]
  },
  {
   "cell_type": "code",
   "execution_count": 15,
   "metadata": {},
   "outputs": [],
   "source": [
    "df.dropna(axis=1,inplace=True)"
   ]
  },
  {
   "cell_type": "code",
   "execution_count": 16,
   "metadata": {},
   "outputs": [
    {
     "data": {
      "text/plain": [
       "(181691, 29)"
      ]
     },
     "execution_count": 16,
     "metadata": {},
     "output_type": "execute_result"
    }
   ],
   "source": [
    "df.shape"
   ]
  },
  {
   "cell_type": "code",
   "execution_count": 17,
   "metadata": {},
   "outputs": [
    {
     "data": {
      "text/html": [
       "<div>\n",
       "<style scoped>\n",
       "    .dataframe tbody tr th:only-of-type {\n",
       "        vertical-align: middle;\n",
       "    }\n",
       "\n",
       "    .dataframe tbody tr th {\n",
       "        vertical-align: top;\n",
       "    }\n",
       "\n",
       "    .dataframe thead th {\n",
       "        text-align: right;\n",
       "    }\n",
       "</style>\n",
       "<table border=\"1\" class=\"dataframe\">\n",
       "  <thead>\n",
       "    <tr style=\"text-align: right;\">\n",
       "      <th></th>\n",
       "      <th>eventid</th>\n",
       "      <th>iyear</th>\n",
       "      <th>imonth</th>\n",
       "      <th>iday</th>\n",
       "      <th>extended</th>\n",
       "      <th>country</th>\n",
       "      <th>region</th>\n",
       "      <th>vicinity</th>\n",
       "      <th>crit1</th>\n",
       "      <th>crit2</th>\n",
       "      <th>...</th>\n",
       "      <th>suicide</th>\n",
       "      <th>attacktype1</th>\n",
       "      <th>targtype1</th>\n",
       "      <th>individual</th>\n",
       "      <th>weaptype1</th>\n",
       "      <th>property</th>\n",
       "      <th>INT_LOG</th>\n",
       "      <th>INT_IDEO</th>\n",
       "      <th>INT_MISC</th>\n",
       "      <th>INT_ANY</th>\n",
       "    </tr>\n",
       "  </thead>\n",
       "  <tbody>\n",
       "    <tr>\n",
       "      <th>eventid</th>\n",
       "      <td>1.000000</td>\n",
       "      <td>0.999996</td>\n",
       "      <td>0.002706</td>\n",
       "      <td>0.018336</td>\n",
       "      <td>0.091761</td>\n",
       "      <td>-0.135039</td>\n",
       "      <td>0.401371</td>\n",
       "      <td>0.070646</td>\n",
       "      <td>0.002019</td>\n",
       "      <td>0.026215</td>\n",
       "      <td>...</td>\n",
       "      <td>0.137743</td>\n",
       "      <td>0.074173</td>\n",
       "      <td>0.079080</td>\n",
       "      <td>0.017939</td>\n",
       "      <td>-0.011716</td>\n",
       "      <td>-0.278927</td>\n",
       "      <td>-0.143600</td>\n",
       "      <td>-0.133252</td>\n",
       "      <td>-0.077852</td>\n",
       "      <td>-0.175605</td>\n",
       "    </tr>\n",
       "    <tr>\n",
       "      <th>iyear</th>\n",
       "      <td>0.999996</td>\n",
       "      <td>1.000000</td>\n",
       "      <td>0.000139</td>\n",
       "      <td>0.018254</td>\n",
       "      <td>0.091754</td>\n",
       "      <td>-0.135023</td>\n",
       "      <td>0.401384</td>\n",
       "      <td>0.070659</td>\n",
       "      <td>0.001995</td>\n",
       "      <td>0.026211</td>\n",
       "      <td>...</td>\n",
       "      <td>0.137736</td>\n",
       "      <td>0.074153</td>\n",
       "      <td>0.079082</td>\n",
       "      <td>0.017944</td>\n",
       "      <td>-0.011737</td>\n",
       "      <td>-0.278916</td>\n",
       "      <td>-0.143601</td>\n",
       "      <td>-0.133253</td>\n",
       "      <td>-0.077847</td>\n",
       "      <td>-0.175596</td>\n",
       "    </tr>\n",
       "    <tr>\n",
       "      <th>imonth</th>\n",
       "      <td>0.002706</td>\n",
       "      <td>0.000139</td>\n",
       "      <td>1.000000</td>\n",
       "      <td>0.005497</td>\n",
       "      <td>-0.000468</td>\n",
       "      <td>-0.006305</td>\n",
       "      <td>-0.002999</td>\n",
       "      <td>-0.004501</td>\n",
       "      <td>0.001568</td>\n",
       "      <td>0.001734</td>\n",
       "      <td>...</td>\n",
       "      <td>0.003071</td>\n",
       "      <td>0.006705</td>\n",
       "      <td>-0.000948</td>\n",
       "      <td>-0.001661</td>\n",
       "      <td>0.007863</td>\n",
       "      <td>-0.005816</td>\n",
       "      <td>-0.002302</td>\n",
       "      <td>-0.002034</td>\n",
       "      <td>-0.002554</td>\n",
       "      <td>-0.006336</td>\n",
       "    </tr>\n",
       "    <tr>\n",
       "      <th>iday</th>\n",
       "      <td>0.018336</td>\n",
       "      <td>0.018254</td>\n",
       "      <td>0.005497</td>\n",
       "      <td>1.000000</td>\n",
       "      <td>-0.004700</td>\n",
       "      <td>0.003468</td>\n",
       "      <td>0.009710</td>\n",
       "      <td>-0.005367</td>\n",
       "      <td>0.011434</td>\n",
       "      <td>-0.002702</td>\n",
       "      <td>...</td>\n",
       "      <td>0.003593</td>\n",
       "      <td>-0.005333</td>\n",
       "      <td>-0.000052</td>\n",
       "      <td>-0.003788</td>\n",
       "      <td>-0.003019</td>\n",
       "      <td>-0.003903</td>\n",
       "      <td>-0.001540</td>\n",
       "      <td>-0.001621</td>\n",
       "      <td>-0.002027</td>\n",
       "      <td>-0.001199</td>\n",
       "    </tr>\n",
       "    <tr>\n",
       "      <th>extended</th>\n",
       "      <td>0.091761</td>\n",
       "      <td>0.091754</td>\n",
       "      <td>-0.000468</td>\n",
       "      <td>-0.004700</td>\n",
       "      <td>1.000000</td>\n",
       "      <td>-0.020466</td>\n",
       "      <td>0.038389</td>\n",
       "      <td>0.017784</td>\n",
       "      <td>-0.015029</td>\n",
       "      <td>0.001249</td>\n",
       "      <td>...</td>\n",
       "      <td>-0.033961</td>\n",
       "      <td>0.272272</td>\n",
       "      <td>0.011613</td>\n",
       "      <td>-0.008929</td>\n",
       "      <td>0.207802</td>\n",
       "      <td>-0.002096</td>\n",
       "      <td>0.071768</td>\n",
       "      <td>0.075147</td>\n",
       "      <td>0.027335</td>\n",
       "      <td>0.080767</td>\n",
       "    </tr>\n",
       "    <tr>\n",
       "      <th>country</th>\n",
       "      <td>-0.135039</td>\n",
       "      <td>-0.135023</td>\n",
       "      <td>-0.006305</td>\n",
       "      <td>0.003468</td>\n",
       "      <td>-0.020466</td>\n",
       "      <td>1.000000</td>\n",
       "      <td>0.148597</td>\n",
       "      <td>-0.012291</td>\n",
       "      <td>-0.006646</td>\n",
       "      <td>-0.038480</td>\n",
       "      <td>...</td>\n",
       "      <td>-0.050360</td>\n",
       "      <td>-0.021384</td>\n",
       "      <td>-0.019703</td>\n",
       "      <td>0.027918</td>\n",
       "      <td>-0.023708</td>\n",
       "      <td>0.032051</td>\n",
       "      <td>0.069904</td>\n",
       "      <td>0.067564</td>\n",
       "      <td>0.207281</td>\n",
       "      <td>0.153118</td>\n",
       "    </tr>\n",
       "    <tr>\n",
       "      <th>region</th>\n",
       "      <td>0.401371</td>\n",
       "      <td>0.401384</td>\n",
       "      <td>-0.002999</td>\n",
       "      <td>0.009710</td>\n",
       "      <td>0.038389</td>\n",
       "      <td>0.148597</td>\n",
       "      <td>1.000000</td>\n",
       "      <td>0.073678</td>\n",
       "      <td>0.025521</td>\n",
       "      <td>-0.013163</td>\n",
       "      <td>...</td>\n",
       "      <td>0.112672</td>\n",
       "      <td>0.007642</td>\n",
       "      <td>0.041396</td>\n",
       "      <td>-0.059963</td>\n",
       "      <td>0.013257</td>\n",
       "      <td>-0.183279</td>\n",
       "      <td>-0.082584</td>\n",
       "      <td>-0.071917</td>\n",
       "      <td>0.043139</td>\n",
       "      <td>-0.047900</td>\n",
       "    </tr>\n",
       "    <tr>\n",
       "      <th>vicinity</th>\n",
       "      <td>0.070646</td>\n",
       "      <td>0.070659</td>\n",
       "      <td>-0.004501</td>\n",
       "      <td>-0.005367</td>\n",
       "      <td>0.017784</td>\n",
       "      <td>-0.012291</td>\n",
       "      <td>0.073678</td>\n",
       "      <td>1.000000</td>\n",
       "      <td>0.003330</td>\n",
       "      <td>-0.000534</td>\n",
       "      <td>...</td>\n",
       "      <td>0.008352</td>\n",
       "      <td>0.006504</td>\n",
       "      <td>0.024644</td>\n",
       "      <td>-0.011986</td>\n",
       "      <td>0.001496</td>\n",
       "      <td>-0.019811</td>\n",
       "      <td>0.014487</td>\n",
       "      <td>0.015119</td>\n",
       "      <td>-0.008232</td>\n",
       "      <td>0.010325</td>\n",
       "    </tr>\n",
       "    <tr>\n",
       "      <th>crit1</th>\n",
       "      <td>0.002019</td>\n",
       "      <td>0.001995</td>\n",
       "      <td>0.001568</td>\n",
       "      <td>0.011434</td>\n",
       "      <td>-0.015029</td>\n",
       "      <td>-0.006646</td>\n",
       "      <td>0.025521</td>\n",
       "      <td>0.003330</td>\n",
       "      <td>1.000000</td>\n",
       "      <td>-0.008984</td>\n",
       "      <td>...</td>\n",
       "      <td>0.019039</td>\n",
       "      <td>0.027544</td>\n",
       "      <td>-0.040026</td>\n",
       "      <td>-0.025591</td>\n",
       "      <td>0.029257</td>\n",
       "      <td>-0.007595</td>\n",
       "      <td>0.089973</td>\n",
       "      <td>0.089888</td>\n",
       "      <td>0.015692</td>\n",
       "      <td>0.082288</td>\n",
       "    </tr>\n",
       "    <tr>\n",
       "      <th>crit2</th>\n",
       "      <td>0.026215</td>\n",
       "      <td>0.026211</td>\n",
       "      <td>0.001734</td>\n",
       "      <td>-0.002702</td>\n",
       "      <td>0.001249</td>\n",
       "      <td>-0.038480</td>\n",
       "      <td>-0.013163</td>\n",
       "      <td>-0.000534</td>\n",
       "      <td>-0.008984</td>\n",
       "      <td>1.000000</td>\n",
       "      <td>...</td>\n",
       "      <td>0.002770</td>\n",
       "      <td>0.005157</td>\n",
       "      <td>-0.101522</td>\n",
       "      <td>0.003311</td>\n",
       "      <td>-0.008549</td>\n",
       "      <td>-0.002711</td>\n",
       "      <td>-0.024153</td>\n",
       "      <td>-0.023829</td>\n",
       "      <td>-0.012980</td>\n",
       "      <td>-0.027752</td>\n",
       "    </tr>\n",
       "    <tr>\n",
       "      <th>crit3</th>\n",
       "      <td>-0.016789</td>\n",
       "      <td>-0.016784</td>\n",
       "      <td>0.000176</td>\n",
       "      <td>-0.004889</td>\n",
       "      <td>0.048533</td>\n",
       "      <td>-0.040288</td>\n",
       "      <td>-0.010175</td>\n",
       "      <td>-0.054995</td>\n",
       "      <td>-0.040589</td>\n",
       "      <td>-0.031425</td>\n",
       "      <td>...</td>\n",
       "      <td>-0.026620</td>\n",
       "      <td>0.028124</td>\n",
       "      <td>0.251296</td>\n",
       "      <td>0.016806</td>\n",
       "      <td>0.018320</td>\n",
       "      <td>0.013345</td>\n",
       "      <td>-0.134557</td>\n",
       "      <td>-0.138251</td>\n",
       "      <td>-0.036112</td>\n",
       "      <td>-0.130216</td>\n",
       "    </tr>\n",
       "    <tr>\n",
       "      <th>success</th>\n",
       "      <td>-0.082972</td>\n",
       "      <td>-0.082963</td>\n",
       "      <td>-0.002845</td>\n",
       "      <td>-0.011802</td>\n",
       "      <td>0.073233</td>\n",
       "      <td>-0.037827</td>\n",
       "      <td>-0.030909</td>\n",
       "      <td>-0.002223</td>\n",
       "      <td>-0.010733</td>\n",
       "      <td>-0.013476</td>\n",
       "      <td>...</td>\n",
       "      <td>-0.031155</td>\n",
       "      <td>0.048408</td>\n",
       "      <td>-0.059637</td>\n",
       "      <td>-0.013868</td>\n",
       "      <td>-0.008178</td>\n",
       "      <td>-0.036876</td>\n",
       "      <td>0.059875</td>\n",
       "      <td>0.059183</td>\n",
       "      <td>-0.014906</td>\n",
       "      <td>0.038245</td>\n",
       "    </tr>\n",
       "    <tr>\n",
       "      <th>suicide</th>\n",
       "      <td>0.137743</td>\n",
       "      <td>0.137736</td>\n",
       "      <td>0.003071</td>\n",
       "      <td>0.003593</td>\n",
       "      <td>-0.033961</td>\n",
       "      <td>-0.050360</td>\n",
       "      <td>0.112672</td>\n",
       "      <td>0.008352</td>\n",
       "      <td>0.019039</td>\n",
       "      <td>0.002770</td>\n",
       "      <td>...</td>\n",
       "      <td>1.000000</td>\n",
       "      <td>-0.029962</td>\n",
       "      <td>-0.023440</td>\n",
       "      <td>0.000775</td>\n",
       "      <td>-0.039928</td>\n",
       "      <td>-0.073382</td>\n",
       "      <td>0.058735</td>\n",
       "      <td>0.065882</td>\n",
       "      <td>-0.000879</td>\n",
       "      <td>0.057241</td>\n",
       "    </tr>\n",
       "    <tr>\n",
       "      <th>attacktype1</th>\n",
       "      <td>0.074173</td>\n",
       "      <td>0.074153</td>\n",
       "      <td>0.006705</td>\n",
       "      <td>-0.005333</td>\n",
       "      <td>0.272272</td>\n",
       "      <td>-0.021384</td>\n",
       "      <td>0.007642</td>\n",
       "      <td>0.006504</td>\n",
       "      <td>0.027544</td>\n",
       "      <td>0.005157</td>\n",
       "      <td>...</td>\n",
       "      <td>-0.029962</td>\n",
       "      <td>1.000000</td>\n",
       "      <td>0.014513</td>\n",
       "      <td>0.016438</td>\n",
       "      <td>0.658954</td>\n",
       "      <td>0.031976</td>\n",
       "      <td>0.075002</td>\n",
       "      <td>0.077225</td>\n",
       "      <td>0.010632</td>\n",
       "      <td>0.088711</td>\n",
       "    </tr>\n",
       "    <tr>\n",
       "      <th>targtype1</th>\n",
       "      <td>0.079080</td>\n",
       "      <td>0.079082</td>\n",
       "      <td>-0.000948</td>\n",
       "      <td>-0.000052</td>\n",
       "      <td>0.011613</td>\n",
       "      <td>-0.019703</td>\n",
       "      <td>0.041396</td>\n",
       "      <td>0.024644</td>\n",
       "      <td>-0.040026</td>\n",
       "      <td>-0.101522</td>\n",
       "      <td>...</td>\n",
       "      <td>-0.023440</td>\n",
       "      <td>0.014513</td>\n",
       "      <td>1.000000</td>\n",
       "      <td>0.005267</td>\n",
       "      <td>0.019846</td>\n",
       "      <td>0.004897</td>\n",
       "      <td>-0.056550</td>\n",
       "      <td>-0.058010</td>\n",
       "      <td>-0.043492</td>\n",
       "      <td>-0.054497</td>\n",
       "    </tr>\n",
       "    <tr>\n",
       "      <th>individual</th>\n",
       "      <td>0.017939</td>\n",
       "      <td>0.017944</td>\n",
       "      <td>-0.001661</td>\n",
       "      <td>-0.003788</td>\n",
       "      <td>-0.008929</td>\n",
       "      <td>0.027918</td>\n",
       "      <td>-0.059963</td>\n",
       "      <td>-0.011986</td>\n",
       "      <td>-0.025591</td>\n",
       "      <td>0.003311</td>\n",
       "      <td>...</td>\n",
       "      <td>0.000775</td>\n",
       "      <td>0.016438</td>\n",
       "      <td>0.005267</td>\n",
       "      <td>1.000000</td>\n",
       "      <td>0.005754</td>\n",
       "      <td>0.006625</td>\n",
       "      <td>-0.048526</td>\n",
       "      <td>-0.048542</td>\n",
       "      <td>0.005490</td>\n",
       "      <td>-0.037488</td>\n",
       "    </tr>\n",
       "    <tr>\n",
       "      <th>weaptype1</th>\n",
       "      <td>-0.011716</td>\n",
       "      <td>-0.011737</td>\n",
       "      <td>0.007863</td>\n",
       "      <td>-0.003019</td>\n",
       "      <td>0.207802</td>\n",
       "      <td>-0.023708</td>\n",
       "      <td>0.013257</td>\n",
       "      <td>0.001496</td>\n",
       "      <td>0.029257</td>\n",
       "      <td>-0.008549</td>\n",
       "      <td>...</td>\n",
       "      <td>-0.039928</td>\n",
       "      <td>0.658954</td>\n",
       "      <td>0.019846</td>\n",
       "      <td>0.005754</td>\n",
       "      <td>1.000000</td>\n",
       "      <td>0.018999</td>\n",
       "      <td>0.072941</td>\n",
       "      <td>0.074702</td>\n",
       "      <td>-0.011652</td>\n",
       "      <td>0.084257</td>\n",
       "    </tr>\n",
       "    <tr>\n",
       "      <th>property</th>\n",
       "      <td>-0.278927</td>\n",
       "      <td>-0.278916</td>\n",
       "      <td>-0.005816</td>\n",
       "      <td>-0.003903</td>\n",
       "      <td>-0.002096</td>\n",
       "      <td>0.032051</td>\n",
       "      <td>-0.183279</td>\n",
       "      <td>-0.019811</td>\n",
       "      <td>-0.007595</td>\n",
       "      <td>-0.002711</td>\n",
       "      <td>...</td>\n",
       "      <td>-0.073382</td>\n",
       "      <td>0.031976</td>\n",
       "      <td>0.004897</td>\n",
       "      <td>0.006625</td>\n",
       "      <td>0.018999</td>\n",
       "      <td>1.000000</td>\n",
       "      <td>0.052445</td>\n",
       "      <td>0.047609</td>\n",
       "      <td>0.022058</td>\n",
       "      <td>0.065701</td>\n",
       "    </tr>\n",
       "    <tr>\n",
       "      <th>INT_LOG</th>\n",
       "      <td>-0.143600</td>\n",
       "      <td>-0.143601</td>\n",
       "      <td>-0.002302</td>\n",
       "      <td>-0.001540</td>\n",
       "      <td>0.071768</td>\n",
       "      <td>0.069904</td>\n",
       "      <td>-0.082584</td>\n",
       "      <td>0.014487</td>\n",
       "      <td>0.089973</td>\n",
       "      <td>-0.024153</td>\n",
       "      <td>...</td>\n",
       "      <td>0.058735</td>\n",
       "      <td>0.075002</td>\n",
       "      <td>-0.056550</td>\n",
       "      <td>-0.048526</td>\n",
       "      <td>0.072941</td>\n",
       "      <td>0.052445</td>\n",
       "      <td>1.000000</td>\n",
       "      <td>0.996211</td>\n",
       "      <td>0.052537</td>\n",
       "      <td>0.891051</td>\n",
       "    </tr>\n",
       "    <tr>\n",
       "      <th>INT_IDEO</th>\n",
       "      <td>-0.133252</td>\n",
       "      <td>-0.133253</td>\n",
       "      <td>-0.002034</td>\n",
       "      <td>-0.001621</td>\n",
       "      <td>0.075147</td>\n",
       "      <td>0.067564</td>\n",
       "      <td>-0.071917</td>\n",
       "      <td>0.015119</td>\n",
       "      <td>0.089888</td>\n",
       "      <td>-0.023829</td>\n",
       "      <td>...</td>\n",
       "      <td>0.065882</td>\n",
       "      <td>0.077225</td>\n",
       "      <td>-0.058010</td>\n",
       "      <td>-0.048542</td>\n",
       "      <td>0.074702</td>\n",
       "      <td>0.047609</td>\n",
       "      <td>0.996211</td>\n",
       "      <td>1.000000</td>\n",
       "      <td>0.082014</td>\n",
       "      <td>0.893811</td>\n",
       "    </tr>\n",
       "    <tr>\n",
       "      <th>INT_MISC</th>\n",
       "      <td>-0.077852</td>\n",
       "      <td>-0.077847</td>\n",
       "      <td>-0.002554</td>\n",
       "      <td>-0.002027</td>\n",
       "      <td>0.027335</td>\n",
       "      <td>0.207281</td>\n",
       "      <td>0.043139</td>\n",
       "      <td>-0.008232</td>\n",
       "      <td>0.015692</td>\n",
       "      <td>-0.012980</td>\n",
       "      <td>...</td>\n",
       "      <td>-0.000879</td>\n",
       "      <td>0.010632</td>\n",
       "      <td>-0.043492</td>\n",
       "      <td>0.005490</td>\n",
       "      <td>-0.011652</td>\n",
       "      <td>0.022058</td>\n",
       "      <td>0.052537</td>\n",
       "      <td>0.082014</td>\n",
       "      <td>1.000000</td>\n",
       "      <td>0.252193</td>\n",
       "    </tr>\n",
       "    <tr>\n",
       "      <th>INT_ANY</th>\n",
       "      <td>-0.175605</td>\n",
       "      <td>-0.175596</td>\n",
       "      <td>-0.006336</td>\n",
       "      <td>-0.001199</td>\n",
       "      <td>0.080767</td>\n",
       "      <td>0.153118</td>\n",
       "      <td>-0.047900</td>\n",
       "      <td>0.010325</td>\n",
       "      <td>0.082288</td>\n",
       "      <td>-0.027752</td>\n",
       "      <td>...</td>\n",
       "      <td>0.057241</td>\n",
       "      <td>0.088711</td>\n",
       "      <td>-0.054497</td>\n",
       "      <td>-0.037488</td>\n",
       "      <td>0.084257</td>\n",
       "      <td>0.065701</td>\n",
       "      <td>0.891051</td>\n",
       "      <td>0.893811</td>\n",
       "      <td>0.252193</td>\n",
       "      <td>1.000000</td>\n",
       "    </tr>\n",
       "  </tbody>\n",
       "</table>\n",
       "<p>22 rows × 22 columns</p>\n",
       "</div>"
      ],
      "text/plain": [
       "              eventid     iyear    imonth      iday  extended   country  \\\n",
       "eventid      1.000000  0.999996  0.002706  0.018336  0.091761 -0.135039   \n",
       "iyear        0.999996  1.000000  0.000139  0.018254  0.091754 -0.135023   \n",
       "imonth       0.002706  0.000139  1.000000  0.005497 -0.000468 -0.006305   \n",
       "iday         0.018336  0.018254  0.005497  1.000000 -0.004700  0.003468   \n",
       "extended     0.091761  0.091754 -0.000468 -0.004700  1.000000 -0.020466   \n",
       "country     -0.135039 -0.135023 -0.006305  0.003468 -0.020466  1.000000   \n",
       "region       0.401371  0.401384 -0.002999  0.009710  0.038389  0.148597   \n",
       "vicinity     0.070646  0.070659 -0.004501 -0.005367  0.017784 -0.012291   \n",
       "crit1        0.002019  0.001995  0.001568  0.011434 -0.015029 -0.006646   \n",
       "crit2        0.026215  0.026211  0.001734 -0.002702  0.001249 -0.038480   \n",
       "crit3       -0.016789 -0.016784  0.000176 -0.004889  0.048533 -0.040288   \n",
       "success     -0.082972 -0.082963 -0.002845 -0.011802  0.073233 -0.037827   \n",
       "suicide      0.137743  0.137736  0.003071  0.003593 -0.033961 -0.050360   \n",
       "attacktype1  0.074173  0.074153  0.006705 -0.005333  0.272272 -0.021384   \n",
       "targtype1    0.079080  0.079082 -0.000948 -0.000052  0.011613 -0.019703   \n",
       "individual   0.017939  0.017944 -0.001661 -0.003788 -0.008929  0.027918   \n",
       "weaptype1   -0.011716 -0.011737  0.007863 -0.003019  0.207802 -0.023708   \n",
       "property    -0.278927 -0.278916 -0.005816 -0.003903 -0.002096  0.032051   \n",
       "INT_LOG     -0.143600 -0.143601 -0.002302 -0.001540  0.071768  0.069904   \n",
       "INT_IDEO    -0.133252 -0.133253 -0.002034 -0.001621  0.075147  0.067564   \n",
       "INT_MISC    -0.077852 -0.077847 -0.002554 -0.002027  0.027335  0.207281   \n",
       "INT_ANY     -0.175605 -0.175596 -0.006336 -0.001199  0.080767  0.153118   \n",
       "\n",
       "               region  vicinity     crit1     crit2  ...   suicide  \\\n",
       "eventid      0.401371  0.070646  0.002019  0.026215  ...  0.137743   \n",
       "iyear        0.401384  0.070659  0.001995  0.026211  ...  0.137736   \n",
       "imonth      -0.002999 -0.004501  0.001568  0.001734  ...  0.003071   \n",
       "iday         0.009710 -0.005367  0.011434 -0.002702  ...  0.003593   \n",
       "extended     0.038389  0.017784 -0.015029  0.001249  ... -0.033961   \n",
       "country      0.148597 -0.012291 -0.006646 -0.038480  ... -0.050360   \n",
       "region       1.000000  0.073678  0.025521 -0.013163  ...  0.112672   \n",
       "vicinity     0.073678  1.000000  0.003330 -0.000534  ...  0.008352   \n",
       "crit1        0.025521  0.003330  1.000000 -0.008984  ...  0.019039   \n",
       "crit2       -0.013163 -0.000534 -0.008984  1.000000  ...  0.002770   \n",
       "crit3       -0.010175 -0.054995 -0.040589 -0.031425  ... -0.026620   \n",
       "success     -0.030909 -0.002223 -0.010733 -0.013476  ... -0.031155   \n",
       "suicide      0.112672  0.008352  0.019039  0.002770  ...  1.000000   \n",
       "attacktype1  0.007642  0.006504  0.027544  0.005157  ... -0.029962   \n",
       "targtype1    0.041396  0.024644 -0.040026 -0.101522  ... -0.023440   \n",
       "individual  -0.059963 -0.011986 -0.025591  0.003311  ...  0.000775   \n",
       "weaptype1    0.013257  0.001496  0.029257 -0.008549  ... -0.039928   \n",
       "property    -0.183279 -0.019811 -0.007595 -0.002711  ... -0.073382   \n",
       "INT_LOG     -0.082584  0.014487  0.089973 -0.024153  ...  0.058735   \n",
       "INT_IDEO    -0.071917  0.015119  0.089888 -0.023829  ...  0.065882   \n",
       "INT_MISC     0.043139 -0.008232  0.015692 -0.012980  ... -0.000879   \n",
       "INT_ANY     -0.047900  0.010325  0.082288 -0.027752  ...  0.057241   \n",
       "\n",
       "             attacktype1  targtype1  individual  weaptype1  property  \\\n",
       "eventid         0.074173   0.079080    0.017939  -0.011716 -0.278927   \n",
       "iyear           0.074153   0.079082    0.017944  -0.011737 -0.278916   \n",
       "imonth          0.006705  -0.000948   -0.001661   0.007863 -0.005816   \n",
       "iday           -0.005333  -0.000052   -0.003788  -0.003019 -0.003903   \n",
       "extended        0.272272   0.011613   -0.008929   0.207802 -0.002096   \n",
       "country        -0.021384  -0.019703    0.027918  -0.023708  0.032051   \n",
       "region          0.007642   0.041396   -0.059963   0.013257 -0.183279   \n",
       "vicinity        0.006504   0.024644   -0.011986   0.001496 -0.019811   \n",
       "crit1           0.027544  -0.040026   -0.025591   0.029257 -0.007595   \n",
       "crit2           0.005157  -0.101522    0.003311  -0.008549 -0.002711   \n",
       "crit3           0.028124   0.251296    0.016806   0.018320  0.013345   \n",
       "success         0.048408  -0.059637   -0.013868  -0.008178 -0.036876   \n",
       "suicide        -0.029962  -0.023440    0.000775  -0.039928 -0.073382   \n",
       "attacktype1     1.000000   0.014513    0.016438   0.658954  0.031976   \n",
       "targtype1       0.014513   1.000000    0.005267   0.019846  0.004897   \n",
       "individual      0.016438   0.005267    1.000000   0.005754  0.006625   \n",
       "weaptype1       0.658954   0.019846    0.005754   1.000000  0.018999   \n",
       "property        0.031976   0.004897    0.006625   0.018999  1.000000   \n",
       "INT_LOG         0.075002  -0.056550   -0.048526   0.072941  0.052445   \n",
       "INT_IDEO        0.077225  -0.058010   -0.048542   0.074702  0.047609   \n",
       "INT_MISC        0.010632  -0.043492    0.005490  -0.011652  0.022058   \n",
       "INT_ANY         0.088711  -0.054497   -0.037488   0.084257  0.065701   \n",
       "\n",
       "              INT_LOG  INT_IDEO  INT_MISC   INT_ANY  \n",
       "eventid     -0.143600 -0.133252 -0.077852 -0.175605  \n",
       "iyear       -0.143601 -0.133253 -0.077847 -0.175596  \n",
       "imonth      -0.002302 -0.002034 -0.002554 -0.006336  \n",
       "iday        -0.001540 -0.001621 -0.002027 -0.001199  \n",
       "extended     0.071768  0.075147  0.027335  0.080767  \n",
       "country      0.069904  0.067564  0.207281  0.153118  \n",
       "region      -0.082584 -0.071917  0.043139 -0.047900  \n",
       "vicinity     0.014487  0.015119 -0.008232  0.010325  \n",
       "crit1        0.089973  0.089888  0.015692  0.082288  \n",
       "crit2       -0.024153 -0.023829 -0.012980 -0.027752  \n",
       "crit3       -0.134557 -0.138251 -0.036112 -0.130216  \n",
       "success      0.059875  0.059183 -0.014906  0.038245  \n",
       "suicide      0.058735  0.065882 -0.000879  0.057241  \n",
       "attacktype1  0.075002  0.077225  0.010632  0.088711  \n",
       "targtype1   -0.056550 -0.058010 -0.043492 -0.054497  \n",
       "individual  -0.048526 -0.048542  0.005490 -0.037488  \n",
       "weaptype1    0.072941  0.074702 -0.011652  0.084257  \n",
       "property     0.052445  0.047609  0.022058  0.065701  \n",
       "INT_LOG      1.000000  0.996211  0.052537  0.891051  \n",
       "INT_IDEO     0.996211  1.000000  0.082014  0.893811  \n",
       "INT_MISC     0.052537  0.082014  1.000000  0.252193  \n",
       "INT_ANY      0.891051  0.893811  0.252193  1.000000  \n",
       "\n",
       "[22 rows x 22 columns]"
      ]
     },
     "execution_count": 17,
     "metadata": {},
     "output_type": "execute_result"
    }
   ],
   "source": [
    "df.corr()"
   ]
  },
  {
   "cell_type": "markdown",
   "metadata": {},
   "source": [
    "## Data Visualization"
   ]
  },
  {
   "cell_type": "code",
   "execution_count": 20,
   "metadata": {},
   "outputs": [
    {
     "data": {
      "text/plain": [
       "Text(0.5, 1.0, 'Increase in Terror')"
      ]
     },
     "execution_count": 20,
     "metadata": {},
     "output_type": "execute_result"
    },
    {
     "data": {
      "image/png": "[encoded data removed]",
      "text/plain": [
       "<Figure size 1080x504 with 1 Axes>"
      ]
     },
     "metadata": {
      "needs_background": "light"
     },
     "output_type": "display_data"
    }
   ],
   "source": [
    "plt.rcParams['figure.figsize']=15,7\n",
    "sns.countplot(x=df['iyear'])\n",
    "plt.ylabel('Number of attacks')\n",
    "plt.xticks(rotation=90)\n",
    "plt.xlabel('Attack Year')\n",
    "plt.title('Increase in Terror',size=25, fontweight=\"bold\")"
   ]
  },
  {
   "cell_type": "code",
   "execution_count": 21,
   "metadata": {},
   "outputs": [
    {
     "data": {
      "text/plain": [
       "Text(0.5, 1.0, 'Increase in Terror')"
      ]
     },
     "execution_count": 21,
     "metadata": {},
     "output_type": "execute_result"
    },
    {
     "data": {
      "image/png": "[encoded data removed]",
      "text/plain": [
       "<Figure size 1080x504 with 1 Axes>"
      ]
     },
     "metadata": {
      "needs_background": "light"
     },
     "output_type": "display_data"
    }
   ],
   "source": [
    "plt.rcParams['figure.figsize']=15,7\n",
    "sns.countplot(x=df['iyear'], hue='success', data=df)\n",
    "plt.ylabel('Number of attacks')\n",
    "plt.xticks(rotation=90)\n",
    "plt.xlabel('Attack Year')\n",
    "plt.title('Increase in Terror',size=25, fontweight=\"bold\")\n"
   ]
  },
  {
   "cell_type": "code",
   "execution_count": 22,
   "metadata": {},
   "outputs": [
    {
     "data": {
      "text/plain": [
       "Text(0.5, 0, 'Attack Region')"
      ]
     },
     "execution_count": 22,
     "metadata": {},
     "output_type": "execute_result"
    },
    {
     "data": {
      "image/png": "[encoded data removed]",
      "text/plain": [
       "<Figure size 1080x504 with 1 Axes>"
      ]
     },
     "metadata": {
      "needs_background": "light"
     },
     "output_type": "display_data"
    }
   ],
   "source": [
    "sns.countplot(x=df['region_txt'], hue='success', data=df)\n",
    "plt.ylabel('Number of attacks')\n",
    "plt.xticks(rotation=90)\n",
    "plt.xlabel('Attack Region')\n"
   ]
  },
  {
   "cell_type": "code",
   "execution_count": 23,
   "metadata": {},
   "outputs": [
    {
     "data": {
      "text/plain": [
       "Text(0.5, 1.0, 'Country wise Attack')"
      ]
     },
     "execution_count": 23,
     "metadata": {},
     "output_type": "execute_result"
    },
    {
     "data": {
      "image/png": "[encoded data removed]",
      "text/plain": [
       "<Figure size 1080x504 with 1 Axes>"
      ]
     },
     "metadata": {
      "needs_background": "light"
     },
     "output_type": "display_data"
    }
   ],
   "source": [
    "sns.barplot(x=df['country_txt'].value_counts()[:20].index,y=df['country_txt'].value_counts()[:20].values)\n",
    "plt.ylabel('Number of attacks')\n",
    "plt.xticks(rotation=90)\n",
    "plt.xlabel('Attack Region')\n",
    "plt.title('Country wise Attack',size=25, fontweight=\"bold\")"
   ]
  },
  {
   "cell_type": "code",
   "execution_count": 24,
   "metadata": {},
   "outputs": [
    {
     "data": {
      "text/plain": [
       "Text(0.5, 1.0, 'Attack types')"
      ]
     },
     "execution_count": 24,
     "metadata": {},
     "output_type": "execute_result"
    },
    {
     "data": {
      "image/png": "[encoded data removed]",
      "text/plain": [
       "<Figure size 1080x504 with 1 Axes>"
      ]
     },
     "metadata": {
      "needs_background": "light"
     },
     "output_type": "display_data"
    }
   ],
   "source": [
    "sns.barplot(x=df['attacktype1_txt'].value_counts()[:20].index,y=df['attacktype1_txt'].value_counts()[:20].values)\n",
    "plt.ylabel('Total Attack', fontsize=20)\n",
    "plt.xticks(rotation=90)\n",
    "plt.xlabel('Attack Type', fontsize=20)\n",
    "plt.title('Attack types',size=25, fontweight=\"bold\")"
   ]
  },
  {
   "cell_type": "markdown",
   "metadata": {},
   "source": [
    "**INFERENCE :-**\n",
    "- Iraq ranked first on the global terrorism for their terrorist activity followed by Pakistan, Afganistan, India, and so on.\n",
    "\n",
    "- Most targeted areas are private citizens and property, military, police, and so on.\n",
    "\n",
    "- Global terror attack deaths rose sharply starting year 2011.\n",
    "\n",
    "- In conclusion with the ranking, Iraq suffered from most terrorist attacks in 2014, with the most deaths in that year."
   ]
  }
 ],
 "metadata": {
  "kernelspec": {
   "display_name": "Python 3",
   "language": "python",
   "name": "python3"
  },
  "language_info": {
   "codemirror_mode": {
    "name": "ipython",
    "version": 3
   },
   "file_extension": ".py",
   "mimetype": "text/x-python",
   "name": "python",
   "nbconvert_exporter": "python",
   "pygments_lexer": "ipython3",
   "version": "3.8.3"
  }
 },
 "nbformat": 4,
 "nbformat_minor": 4
}
